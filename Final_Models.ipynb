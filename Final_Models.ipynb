{
 "cells": [
  {
   "cell_type": "code",
   "execution_count": 1,
   "id": "4c180212",
   "metadata": {},
   "outputs": [],
   "source": [
    "import numpy as np\n",
    "import pandas as pd\n",
    "from shap import TreeExplainer\n",
    "from shap import summary_plot\n",
    "from sklearn.model_selection import train_test_split\n",
    "from sklearn.tree import DecisionTreeClassifier\n",
    "from sklearn.linear_model import LogisticRegression\n",
    "from sklearn.ensemble import RandomForestClassifier\n",
    "import matplotlib.pyplot as plt\n",
    "from sklearn.metrics import classification_report, confusion_matrix,accuracy_score\n",
    "from sklearn.model_selection import train_test_split\n",
    "from sklearn.metrics import roc_auc_score"
   ]
  },
  {
   "cell_type": "code",
   "execution_count": 2,
   "id": "1aaa324d",
   "metadata": {},
   "outputs": [],
   "source": [
    "#reading dataframes\n",
    "\n",
    "all_data=pd.read_csv(\"train.csv\") \n",
    "test_data=pd.read_csv(\"test.csv\")"
   ]
  },
  {
   "cell_type": "code",
   "execution_count": 3,
   "id": "d4f72a47",
   "metadata": {},
   "outputs": [],
   "source": [
    "#all_data.info()"
   ]
  },
  {
   "cell_type": "code",
   "execution_count": 4,
   "id": "ed018d94",
   "metadata": {},
   "outputs": [],
   "source": [
    "#test_data.info()"
   ]
  },
  {
   "cell_type": "code",
   "execution_count": 5,
   "id": "c3e8ef2f",
   "metadata": {},
   "outputs": [
    {
     "data": {
      "text/plain": [
       "Index(['Unnamed: 0', 'id', 'Gender', 'Customer Type', 'Age', 'Type of Travel',\n",
       "       'Class', 'Flight Distance', 'Inflight wifi service',\n",
       "       'Departure/Arrival time convenient', 'Ease of Online booking',\n",
       "       'Gate location', 'Food and drink', 'Online boarding', 'Seat comfort',\n",
       "       'Inflight entertainment', 'On-board service', 'Leg room service',\n",
       "       'Baggage handling', 'Checkin service', 'Inflight service',\n",
       "       'Cleanliness', 'Departure Delay in Minutes', 'Arrival Delay in Minutes',\n",
       "       'satisfaction'],\n",
       "      dtype='object')"
      ]
     },
     "execution_count": 5,
     "metadata": {},
     "output_type": "execute_result"
    }
   ],
   "source": [
    "all_data.columns"
   ]
  },
  {
   "cell_type": "code",
   "execution_count": 6,
   "id": "5b997074",
   "metadata": {},
   "outputs": [],
   "source": [
    "# X and target y for training data\n",
    "X_train= all_data.iloc[:,[4,8,9,10,11,12,13,14,15,16,17,18,19,20,21]]\n",
    "y_train= all_data.iloc[:, -1]"
   ]
  },
  {
   "cell_type": "code",
   "execution_count": 7,
   "id": "958a5d66",
   "metadata": {},
   "outputs": [],
   "source": [
    "# X and target y for test data\n",
    "X_test= test_data.iloc[:,[4,8,9,10,11,12,13,14,15,16,17,18,19,20,21]]\n",
    "y_test= test_data.iloc[:, -1]"
   ]
  },
  {
   "cell_type": "code",
   "execution_count": 8,
   "id": "ac591239",
   "metadata": {},
   "outputs": [],
   "source": [
    "#Convert y target to 1 for satisfied and 0 for neutral or dissatisfied\n",
    "\n",
    "y_train = y_train.replace('satisfied',1)\n",
    "y_train = y_train.replace('neutral or dissatisfied',0)\n",
    "\n",
    "y_test = y_test.replace('satisfied',1)\n",
    "y_test = y_test.replace('neutral or dissatisfied',0)"
   ]
  },
  {
   "cell_type": "code",
   "execution_count": 9,
   "id": "cd9ef744",
   "metadata": {},
   "outputs": [],
   "source": [
    "#y_train.head()\n",
    "#y_test.head()\n",
    "#y_test.value_counts()\n",
    "#y_train.value_counts()\n",
    "#X_train.dtypes"
   ]
  },
  {
   "cell_type": "code",
   "execution_count": null,
   "id": "5379468b",
   "metadata": {},
   "outputs": [],
   "source": []
  },
  {
   "cell_type": "code",
   "execution_count": 10,
   "id": "c026eb74",
   "metadata": {},
   "outputs": [],
   "source": [
    "#Train and validation split\n",
    "\n",
    "X= X_train\n",
    "y= y_train\n",
    "\n",
    "X_train, X_val, y_train, y_val = train_test_split(X, y, test_size = 0.2,random_state=42)"
   ]
  },
  {
   "cell_type": "code",
   "execution_count": 11,
   "id": "789a3776",
   "metadata": {},
   "outputs": [],
   "source": [
    "#X_train.info()\n",
    "#X_val.info()\n",
    "#y_train\n",
    "#y_val"
   ]
  },
  {
   "cell_type": "code",
   "execution_count": 12,
   "id": "03d42671",
   "metadata": {},
   "outputs": [],
   "source": [
    "\n",
    "#Evaluate models with Root Mean Squared Error\n",
    "def rmse(actuals, preds):\n",
    "    return np.sqrt(((actuals - preds) ** 2).mean())"
   ]
  },
  {
   "cell_type": "code",
   "execution_count": 13,
   "id": "bfcd9854",
   "metadata": {},
   "outputs": [
    {
     "data": {
      "text/plain": [
       "DecisionTreeClassifier()"
      ]
     },
     "execution_count": 13,
     "metadata": {},
     "output_type": "execute_result"
    }
   ],
   "source": [
    "#Baseline Decisison Tree  with  all variables  on training data\n",
    "#closer to zero the better\n",
    "\n",
    "dtree = DecisionTreeClassifier()\n",
    "dtree.fit(X_train,y_train)\n",
    "#y_prob_pred_train = dtreepredict_proba(X_train)[:,1]\n",
    "\n",
    "\n"
   ]
  },
  {
   "cell_type": "code",
   "execution_count": 14,
   "id": "ed74a5d3",
   "metadata": {},
   "outputs": [
    {
     "data": {
      "text/plain": [
       "0.2727542482499682"
      ]
     },
     "execution_count": 14,
     "metadata": {},
     "output_type": "execute_result"
    }
   ],
   "source": [
    "#RMSE of Decision Tree with Validation Set\n",
    "\n",
    "rmse(dtree.predict(X_val), y_val)"
   ]
  },
  {
   "cell_type": "code",
   "execution_count": 15,
   "id": "bdf4129c",
   "metadata": {},
   "outputs": [
    {
     "data": {
      "text/plain": [
       "0.2728613962180112"
      ]
     },
     "execution_count": 15,
     "metadata": {},
     "output_type": "execute_result"
    }
   ],
   "source": [
    "#RMSE of Decision Tree with Test Set\n",
    "\n",
    "rmse(dtree.predict(X_test), y_test)"
   ]
  },
  {
   "cell_type": "code",
   "execution_count": 16,
   "id": "625cb6a4",
   "metadata": {},
   "outputs": [
    {
     "name": "stdout",
     "output_type": "stream",
     "text": [
      "              precision    recall  f1-score   support\n",
      "\n",
      "           0       0.93      0.93      0.93     11713\n",
      "           1       0.91      0.92      0.91      9068\n",
      "\n",
      "    accuracy                           0.93     20781\n",
      "   macro avg       0.92      0.92      0.92     20781\n",
      "weighted avg       0.93      0.93      0.93     20781\n",
      "\n"
     ]
    }
   ],
   "source": [
    "#Decison Tree Classification report on Validation Set \n",
    "\n",
    "print(classification_report(y_val, dtree.predict(X_val)))"
   ]
  },
  {
   "cell_type": "code",
   "execution_count": 17,
   "id": "bfb920f5",
   "metadata": {},
   "outputs": [
    {
     "name": "stdout",
     "output_type": "stream",
     "text": [
      "              precision    recall  f1-score   support\n",
      "\n",
      "           0       0.94      0.93      0.93     14573\n",
      "           1       0.91      0.92      0.92     11403\n",
      "\n",
      "    accuracy                           0.93     25976\n",
      "   macro avg       0.92      0.92      0.92     25976\n",
      "weighted avg       0.93      0.93      0.93     25976\n",
      "\n"
     ]
    }
   ],
   "source": [
    "#Decision Tree Classification report on Test Set\n",
    "\n",
    "print(classification_report(y_test, dtree.predict(X_test)))\n"
   ]
  },
  {
   "cell_type": "code",
   "execution_count": 18,
   "id": "931123c5",
   "metadata": {},
   "outputs": [],
   "source": [
    "#feature_names=list(X.columns)\n",
    "\n",
    "#from sklearn.tree import export_text\n",
    "#r = export_text(dtree, feature_names=feature_names)\n",
    "#print(r)"
   ]
  },
  {
   "cell_type": "code",
   "execution_count": 19,
   "id": "135efc02",
   "metadata": {},
   "outputs": [
    {
     "name": "stderr",
     "output_type": "stream",
     "text": [
      "lbfgs failed to converge (status=1):\n",
      "STOP: TOTAL NO. of ITERATIONS REACHED LIMIT.\n",
      "\n",
      "Increase the number of iterations (max_iter) or scale the data as shown in:\n",
      "    https://scikit-learn.org/stable/modules/preprocessing.html\n",
      "Please also refer to the documentation for alternative solver options:\n",
      "    https://scikit-learn.org/stable/modules/linear_model.html#logistic-regression\n"
     ]
    },
    {
     "data": {
      "text/plain": [
       "LogisticRegression()"
      ]
     },
     "execution_count": 19,
     "metadata": {},
     "output_type": "execute_result"
    }
   ],
   "source": [
    "#Logistic Regression model on validation data\n",
    "#closer to zero the better\n",
    "\n",
    "logreg = LogisticRegression()\n",
    "logreg.fit(X_train,y_train)\n"
   ]
  },
  {
   "cell_type": "code",
   "execution_count": 20,
   "id": "4dfbac61",
   "metadata": {},
   "outputs": [
    {
     "data": {
      "text/plain": [
       "0.42835139092132035"
      ]
     },
     "execution_count": 20,
     "metadata": {},
     "output_type": "execute_result"
    }
   ],
   "source": [
    "#RMSE of Logistric Regression with Validation Set\n",
    "\n",
    "rmse(logreg.predict(X_val), y_val)"
   ]
  },
  {
   "cell_type": "code",
   "execution_count": 21,
   "id": "26de18f0",
   "metadata": {},
   "outputs": [
    {
     "data": {
      "text/plain": [
       "0.43143174879128476"
      ]
     },
     "execution_count": 21,
     "metadata": {},
     "output_type": "execute_result"
    }
   ],
   "source": [
    "#RMSE of Logistric Regression with Test Set\n",
    "\n",
    "rmse(logreg.predict(X_test), y_test)"
   ]
  },
  {
   "cell_type": "code",
   "execution_count": 22,
   "id": "ae8c6647",
   "metadata": {},
   "outputs": [
    {
     "name": "stdout",
     "output_type": "stream",
     "text": [
      "              precision    recall  f1-score   support\n",
      "\n",
      "           0       0.83      0.85      0.84     11713\n",
      "           1       0.80      0.77      0.79      9068\n",
      "\n",
      "    accuracy                           0.82     20781\n",
      "   macro avg       0.81      0.81      0.81     20781\n",
      "weighted avg       0.82      0.82      0.82     20781\n",
      "\n"
     ]
    }
   ],
   "source": [
    "#LR Classification report on Validation Set \n",
    "\n",
    "print(classification_report(y_val, logreg.predict(X_val)))"
   ]
  },
  {
   "cell_type": "code",
   "execution_count": 23,
   "id": "7cd4b343",
   "metadata": {},
   "outputs": [
    {
     "name": "stdout",
     "output_type": "stream",
     "text": [
      "              precision    recall  f1-score   support\n",
      "\n",
      "           0       0.82      0.85      0.84     14573\n",
      "           1       0.80      0.77      0.78     11403\n",
      "\n",
      "    accuracy                           0.81     25976\n",
      "   macro avg       0.81      0.81      0.81     25976\n",
      "weighted avg       0.81      0.81      0.81     25976\n",
      "\n"
     ]
    }
   ],
   "source": [
    "#LR Classification report on Test Set\n",
    "\n",
    "print(classification_report(y_test, logreg.predict(X_test)))"
   ]
  },
  {
   "cell_type": "code",
   "execution_count": 24,
   "id": "ff17bbe1",
   "metadata": {},
   "outputs": [
    {
     "data": {
      "text/plain": [
       "RandomForestClassifier()"
      ]
     },
     "execution_count": 24,
     "metadata": {},
     "output_type": "execute_result"
    }
   ],
   "source": [
    "#Random Forest model \n",
    "\n",
    "rf = RandomForestClassifier()\n",
    "rf.fit(X_train,y_train)\n",
    "\n"
   ]
  },
  {
   "cell_type": "code",
   "execution_count": 25,
   "id": "28a5a390",
   "metadata": {},
   "outputs": [
    {
     "data": {
      "text/plain": [
       "0.2246748823355969"
      ]
     },
     "execution_count": 25,
     "metadata": {},
     "output_type": "execute_result"
    }
   ],
   "source": [
    "#RMSE of Random Forest with Validation Set\n",
    "\n",
    "rmse(rf.predict(X_val), y_val)"
   ]
  },
  {
   "cell_type": "code",
   "execution_count": 26,
   "id": "bfbfa39e",
   "metadata": {},
   "outputs": [
    {
     "data": {
      "text/plain": [
       "0.22439735533834998"
      ]
     },
     "execution_count": 26,
     "metadata": {},
     "output_type": "execute_result"
    }
   ],
   "source": [
    "#RMSE of Random Forest with Test Set\n",
    "\n",
    "rmse(rf.predict(X_test), y_test)"
   ]
  },
  {
   "cell_type": "raw",
   "id": "6b3fa298",
   "metadata": {},
   "source": []
  },
  {
   "cell_type": "code",
   "execution_count": 27,
   "id": "46154c8b",
   "metadata": {},
   "outputs": [
    {
     "name": "stdout",
     "output_type": "stream",
     "text": [
      "              precision    recall  f1-score   support\n",
      "\n",
      "           0       0.94      0.97      0.96     11713\n",
      "           1       0.96      0.92      0.94      9068\n",
      "\n",
      "    accuracy                           0.95     20781\n",
      "   macro avg       0.95      0.95      0.95     20781\n",
      "weighted avg       0.95      0.95      0.95     20781\n",
      "\n"
     ]
    }
   ],
   "source": [
    "#RF Classification report on Validation Set\n",
    "\n",
    "print(classification_report(y_val, rf.predict(X_val)))\n",
    "\n"
   ]
  },
  {
   "cell_type": "code",
   "execution_count": 28,
   "id": "af134e78",
   "metadata": {},
   "outputs": [
    {
     "name": "stdout",
     "output_type": "stream",
     "text": [
      "              precision    recall  f1-score   support\n",
      "\n",
      "           0       0.94      0.97      0.96     14573\n",
      "           1       0.96      0.93      0.94     11403\n",
      "\n",
      "    accuracy                           0.95     25976\n",
      "   macro avg       0.95      0.95      0.95     25976\n",
      "weighted avg       0.95      0.95      0.95     25976\n",
      "\n"
     ]
    }
   ],
   "source": [
    "#RF Classification report on Test Set\n",
    "\n",
    "print(classification_report(y_test, rf.predict(X_test)))\n"
   ]
  },
  {
   "cell_type": "code",
   "execution_count": 29,
   "id": "3a401a1a",
   "metadata": {},
   "outputs": [
    {
     "data": {
      "text/plain": [
       "0.9886988830192659"
      ]
     },
     "execution_count": 29,
     "metadata": {},
     "output_type": "execute_result"
    }
   ],
   "source": [
    "#ROC score for Random Forest\n",
    "\n",
    "roc_auc_score(y_test, rf.predict_proba(X_test)[:,1])"
   ]
  },
  {
   "cell_type": "code",
   "execution_count": 30,
   "id": "04f0c886",
   "metadata": {},
   "outputs": [
    {
     "data": {
      "text/plain": [
       "0.8754918815884508"
      ]
     },
     "execution_count": 30,
     "metadata": {},
     "output_type": "execute_result"
    }
   ],
   "source": [
    "#ROC score for LR\n",
    "\n",
    "roc_auc_score(y_test, logreg.predict_proba(X_test)[:,1])"
   ]
  },
  {
   "cell_type": "code",
   "execution_count": 31,
   "id": "24de6972",
   "metadata": {},
   "outputs": [
    {
     "data": {
      "text/plain": [
       "0.9249640135885152"
      ]
     },
     "execution_count": 31,
     "metadata": {},
     "output_type": "execute_result"
    }
   ],
   "source": [
    "#ROC score for Decision Tree\n",
    "\n",
    "roc_auc_score(y_test, dtree.predict_proba(X_test)[:,1])"
   ]
  },
  {
   "cell_type": "code",
   "execution_count": null,
   "id": "fc6f3af0",
   "metadata": {},
   "outputs": [],
   "source": []
  },
  {
   "cell_type": "code",
   "execution_count": null,
   "id": "4c2edcd3",
   "metadata": {},
   "outputs": [],
   "source": []
  },
  {
   "cell_type": "code",
   "execution_count": 32,
   "id": "43f4a45d",
   "metadata": {},
   "outputs": [
    {
     "data": {
      "text/plain": [
       "<matplotlib.legend.Legend at 0x7ff4e966aa00>"
      ]
     },
     "execution_count": 32,
     "metadata": {},
     "output_type": "execute_result"
    },
    {
     "data": {
      "image/png": "[encoded data removed]",
      "text/plain": [
       "<Figure size 432x288 with 1 Axes>"
      ]
     },
     "metadata": {
      "needs_background": "light"
     },
     "output_type": "display_data"
    }
   ],
   "source": [
    "#ROC curve\n",
    "from sklearn.metrics import roc_curve\n",
    "\n",
    "fpr_RF, tpr_RF, _ = roc_curve(y_test, rf.predict_proba(X_test)[:,1])\n",
    "plt.plot(fpr_RF, tpr_RF)\n",
    "\n",
    "fpr, tpr, _ = roc_curve(y_test, dtree.predict_proba(X_test)[:,1])\n",
    "plt.plot(fpr, tpr)\n",
    "\n",
    "fpr_LR, tpr_LR, _ = roc_curve(y_test, logreg.predict_proba(X_test)[:,1])\n",
    "plt.plot(fpr_LR, tpr_LR)\n",
    "\n",
    "x = np.linspace(0,1, 100000)\n",
    "plt.plot(x, x, linestyle='--')\n",
    "\n",
    "plt.title('ROC Curve')\n",
    "plt.xlabel('False Positive Rate')\n",
    "plt.ylabel('True Positive Rate')\n",
    "plt.legend(['Random Forest (Area=0.99)','Decision Tree (Area=0.92)','Logistric Regression (Area=0.88)','Random Classifer'])"
   ]
  },
  {
   "cell_type": "code",
   "execution_count": null,
   "id": "1b480341",
   "metadata": {},
   "outputs": [],
   "source": []
  },
  {
   "cell_type": "code",
   "execution_count": null,
   "id": "cecffa07",
   "metadata": {},
   "outputs": [],
   "source": []
  },
  {
   "cell_type": "code",
   "execution_count": null,
   "id": "3664c512",
   "metadata": {},
   "outputs": [],
   "source": [
    "\n"
   ]
  },
  {
   "cell_type": "code",
   "execution_count": null,
   "id": "14c7fe1b",
   "metadata": {},
   "outputs": [],
   "source": []
  },
  {
   "cell_type": "code",
   "execution_count": null,
   "id": "5306e9f4",
   "metadata": {},
   "outputs": [],
   "source": []
  },
  {
   "cell_type": "code",
   "execution_count": null,
   "id": "faa8025e",
   "metadata": {},
   "outputs": [],
   "source": []
  },
  {
   "cell_type": "code",
   "execution_count": null,
   "id": "e3d943ba",
   "metadata": {},
   "outputs": [],
   "source": []
  },
  {
   "cell_type": "code",
   "execution_count": null,
   "id": "267c9e72",
   "metadata": {},
   "outputs": [],
   "source": []
  },
  {
   "cell_type": "code",
   "execution_count": null,
   "id": "c0ab87d5",
   "metadata": {},
   "outputs": [],
   "source": []
  },
  {
   "cell_type": "code",
   "execution_count": null,
   "id": "ed5140c2",
   "metadata": {},
   "outputs": [],
   "source": []
  }
 ],
 "metadata": {
  "kernelspec": {
   "display_name": "Python [conda env:root]",
   "language": "python",
   "name": "conda-root-py"
  },
  "language_info": {
   "codemirror_mode": {
    "name": "ipython",
    "version": 3
   },
   "file_extension": ".py",
   "mimetype": "text/x-python",
   "name": "python",
   "nbconvert_exporter": "python",
   "pygments_lexer": "ipython3",
   "version": "3.8.8"
  }
 },
 "nbformat": 4,
 "nbformat_minor": 5
}
