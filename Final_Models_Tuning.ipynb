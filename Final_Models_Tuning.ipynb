{
 "cells": [
  {
   "cell_type": "code",
   "execution_count": 37,
   "id": "4c180212",
   "metadata": {},
   "outputs": [],
   "source": [
    "import numpy as np\n",
    "import pandas as pd\n",
    "import shap\n",
    "from sklearn.model_selection import train_test_split\n",
    "from sklearn.ensemble import RandomForestClassifier\n",
    "import matplotlib.pyplot as plt\n",
    "from sklearn.model_selection import train_test_split\n",
    "from sklearn.metrics import roc_auc_score\n",
    "from sklearn.metrics import classification_report\n",
    "import seaborn as sns"
   ]
  },
  {
   "cell_type": "code",
   "execution_count": 3,
   "id": "1aaa324d",
   "metadata": {},
   "outputs": [],
   "source": [
    "#reading dataframes\n",
    "\n",
    "all_data=pd.read_csv(\"train.csv\") \n",
    "test_data=pd.read_csv(\"test.csv\")"
   ]
  },
  {
   "cell_type": "code",
   "execution_count": 4,
   "id": "d4f72a47",
   "metadata": {},
   "outputs": [],
   "source": [
    "#all_data.info()"
   ]
  },
  {
   "cell_type": "code",
   "execution_count": 5,
   "id": "ed018d94",
   "metadata": {},
   "outputs": [],
   "source": [
    "#test_data.info()"
   ]
  },
  {
   "cell_type": "code",
   "execution_count": 6,
   "id": "c3e8ef2f",
   "metadata": {},
   "outputs": [],
   "source": [
    "#all_data.columns"
   ]
  },
  {
   "cell_type": "code",
   "execution_count": 7,
   "id": "5b997074",
   "metadata": {},
   "outputs": [],
   "source": [
    "# X and target y for training data\n",
    "X_train= all_data.iloc[:,[4,8,9,10,11,12,13,14,15,16,17,18,19,20,21]]\n",
    "y_train= all_data.iloc[:, -1]"
   ]
  },
  {
   "cell_type": "code",
   "execution_count": 8,
   "id": "958a5d66",
   "metadata": {},
   "outputs": [],
   "source": [
    "# X and target y for test data\n",
    "X_test= test_data.iloc[:,[4,8,9,10,11,12,13,14,15,16,17,18,19,20,21]]\n",
    "y_test= test_data.iloc[:, -1]"
   ]
  },
  {
   "cell_type": "code",
   "execution_count": 9,
   "id": "ac591239",
   "metadata": {},
   "outputs": [],
   "source": [
    "#Convert y target to 1 for satisfied and 0 for neutral or dissatisfied\n",
    "\n",
    "y_train = y_train.replace('satisfied',1)\n",
    "y_train = y_train.replace('neutral or dissatisfied',0)\n",
    "\n",
    "y_test = y_test.replace('satisfied',1)\n",
    "y_test = y_test.replace('neutral or dissatisfied',0)"
   ]
  },
  {
   "cell_type": "code",
   "execution_count": 10,
   "id": "cd9ef744",
   "metadata": {},
   "outputs": [],
   "source": [
    "#Train and validation split\n",
    "\n",
    "X= X_train\n",
    "y= y_train\n",
    "\n",
    "X_train, X_val, y_train, y_val = train_test_split(X, y, test_size = 0.2,random_state=42)"
   ]
  },
  {
   "cell_type": "code",
   "execution_count": 11,
   "id": "1f7721da",
   "metadata": {},
   "outputs": [],
   "source": [
    "\n",
    "#Evaluate models with Root Mean Squared Error\n",
    "def rmse(actuals, preds):\n",
    "    return np.sqrt(((actuals - preds) ** 2).mean())"
   ]
  },
  {
   "cell_type": "code",
   "execution_count": 12,
   "id": "5379468b",
   "metadata": {},
   "outputs": [
    {
     "data": {
      "text/plain": [
       "RandomForestClassifier(random_state=0)"
      ]
     },
     "execution_count": 12,
     "metadata": {},
     "output_type": "execute_result"
    }
   ],
   "source": [
    "#Baseline  Model\n",
    "\n",
    "rf = RandomForestClassifier(random_state=0)\n",
    "rf.fit(X_train,y_train)"
   ]
  },
  {
   "cell_type": "code",
   "execution_count": 13,
   "id": "c026eb74",
   "metadata": {},
   "outputs": [
    {
     "data": {
      "text/plain": [
       "0.9888256282187312"
      ]
     },
     "execution_count": 13,
     "metadata": {},
     "output_type": "execute_result"
    }
   ],
   "source": [
    "#ROC score for Baseline Random Forest with Test Set\n",
    "\n",
    "roc_auc_score(y_test, rf.predict_proba(X_test)[:,1])"
   ]
  },
  {
   "cell_type": "code",
   "execution_count": 14,
   "id": "0c7740a2",
   "metadata": {},
   "outputs": [
    {
     "data": {
      "text/plain": [
       "0.22636167031977822"
      ]
     },
     "execution_count": 14,
     "metadata": {},
     "output_type": "execute_result"
    }
   ],
   "source": [
    "#RMSE for Baseline Random Forest with Test Set\n",
    "\n",
    "rmse(rf.predict(X_test), y_test)"
   ]
  },
  {
   "cell_type": "code",
   "execution_count": 15,
   "id": "789a3776",
   "metadata": {},
   "outputs": [
    {
     "name": "stdout",
     "output_type": "stream",
     "text": [
      "Parameters of baseline model:\n"
     ]
    },
    {
     "data": {
      "text/plain": [
       "{'bootstrap': True,\n",
       " 'ccp_alpha': 0.0,\n",
       " 'class_weight': None,\n",
       " 'criterion': 'gini',\n",
       " 'max_depth': None,\n",
       " 'max_features': 'auto',\n",
       " 'max_leaf_nodes': None,\n",
       " 'max_samples': None,\n",
       " 'min_impurity_decrease': 0.0,\n",
       " 'min_impurity_split': None,\n",
       " 'min_samples_leaf': 1,\n",
       " 'min_samples_split': 2,\n",
       " 'min_weight_fraction_leaf': 0.0,\n",
       " 'n_estimators': 100,\n",
       " 'n_jobs': None,\n",
       " 'oob_score': False,\n",
       " 'random_state': 0,\n",
       " 'verbose': 0,\n",
       " 'warm_start': False}"
      ]
     },
     "execution_count": 15,
     "metadata": {},
     "output_type": "execute_result"
    }
   ],
   "source": [
    "print('Parameters of baseline model:')\n",
    "rf.get_params()"
   ]
  },
  {
   "cell_type": "code",
   "execution_count": null,
   "id": "bd26427b",
   "metadata": {},
   "outputs": [],
   "source": []
  },
  {
   "cell_type": "code",
   "execution_count": 16,
   "id": "03d42671",
   "metadata": {},
   "outputs": [],
   "source": [
    "#Tuning Max Depth of Tree with 1,3,6,9, 12\n",
    "\n",
    "max_depth_x= [1,3,6,9,12]\n",
    "max_depth_roc=[]       #ROC AUC \n",
    "max_depth_error=[]  #RMSE"
   ]
  },
  {
   "cell_type": "code",
   "execution_count": 17,
   "id": "bfcd9854",
   "metadata": {},
   "outputs": [
    {
     "data": {
      "text/plain": [
       "0.875791798690158"
      ]
     },
     "execution_count": 17,
     "metadata": {},
     "output_type": "execute_result"
    }
   ],
   "source": [
    "#Max Depth of 1\n",
    "rf_a = RandomForestClassifier(max_depth=1, random_state=0)\n",
    "rf_a.fit(X_train,y_train)\n",
    "max_depth_error.append(rmse(rf_a.predict(X_test), y_test))\n",
    "max_depth_roc.append(roc_auc_score(y_test, rf_a.predict_proba(X_test)[:,1]))\n",
    "roc_auc_score(y_test, rf_a.predict_proba(X_test)[:,1])"
   ]
  },
  {
   "cell_type": "code",
   "execution_count": 18,
   "id": "ed74a5d3",
   "metadata": {},
   "outputs": [
    {
     "data": {
      "text/plain": [
       "0.9295516999668285"
      ]
     },
     "execution_count": 18,
     "metadata": {},
     "output_type": "execute_result"
    }
   ],
   "source": [
    "#Max Depth of 3\n",
    "rf_a = RandomForestClassifier(max_depth=3, random_state=0)\n",
    "rf_a.fit(X_train,y_train)\n",
    "max_depth_error.append(rmse(rf_a.predict(X_test), y_test))\n",
    "max_depth_roc.append(roc_auc_score(y_test, rf_a.predict_proba(X_test)[:,1]))\n",
    "roc_auc_score(y_test, rf_a.predict_proba(X_test)[:,1])"
   ]
  },
  {
   "cell_type": "code",
   "execution_count": 19,
   "id": "bdf4129c",
   "metadata": {},
   "outputs": [
    {
     "data": {
      "text/plain": [
       "0.9614267666544392"
      ]
     },
     "execution_count": 19,
     "metadata": {},
     "output_type": "execute_result"
    }
   ],
   "source": [
    "#Max Depth of 6\n",
    "rf_a = RandomForestClassifier(max_depth=6, random_state=0)\n",
    "rf_a.fit(X_train,y_train)\n",
    "max_depth_error.append(rmse(rf_a.predict(X_test), y_test))\n",
    "max_depth_roc.append(roc_auc_score(y_test, rf_a.predict_proba(X_test)[:,1]))\n",
    "roc_auc_score(y_test, rf_a.predict_proba(X_test)[:,1])"
   ]
  },
  {
   "cell_type": "code",
   "execution_count": 20,
   "id": "625cb6a4",
   "metadata": {},
   "outputs": [
    {
     "data": {
      "text/plain": [
       "0.9778597312887434"
      ]
     },
     "execution_count": 20,
     "metadata": {},
     "output_type": "execute_result"
    }
   ],
   "source": [
    "#Max Depth of 9\n",
    "rf_a = RandomForestClassifier(max_depth=9, random_state=0)\n",
    "rf_a.fit(X_train,y_train)\n",
    "max_depth_error.append(rmse(rf_a.predict(X_test), y_test))\n",
    "max_depth_roc.append(roc_auc_score(y_test, rf_a.predict_proba(X_test)[:,1]))\n",
    "roc_auc_score(y_test, rf_a.predict_proba(X_test)[:,1])"
   ]
  },
  {
   "cell_type": "code",
   "execution_count": 21,
   "id": "bfb920f5",
   "metadata": {},
   "outputs": [
    {
     "data": {
      "text/plain": [
       "0.9851749368089849"
      ]
     },
     "execution_count": 21,
     "metadata": {},
     "output_type": "execute_result"
    }
   ],
   "source": [
    "#Max Depth of 12\n",
    "rf_a = RandomForestClassifier(max_depth=12, random_state=0)\n",
    "rf_a.fit(X_train,y_train)\n",
    "max_depth_error.append(rmse(rf_a.predict(X_test), y_test))\n",
    "max_depth_roc.append(roc_auc_score(y_test, rf_a.predict_proba(X_test)[:,1]))\n",
    "roc_auc_score(y_test, rf_a.predict_proba(X_test)[:,1])\n"
   ]
  },
  {
   "cell_type": "code",
   "execution_count": null,
   "id": "931123c5",
   "metadata": {},
   "outputs": [],
   "source": []
  },
  {
   "cell_type": "code",
   "execution_count": 22,
   "id": "135efc02",
   "metadata": {},
   "outputs": [
    {
     "name": "stdout",
     "output_type": "stream",
     "text": [
      "   Max Depth  ROC AUC Score      RMSE\n",
      "0        1.0       0.875792  0.433435\n",
      "1        3.0       0.929552  0.404252\n",
      "2        6.0       0.961427  0.315094\n",
      "3        9.0       0.977860  0.276714\n",
      "4       12.0       0.985175  0.252337\n"
     ]
    }
   ],
   "source": [
    "#Max Depth list to dataframe\n",
    "max_depth_list = [max_depth_x, max_depth_roc, max_depth_error]\n",
    "df  = pd.DataFrame (max_depth_list).transpose()\n",
    "df. columns=(['Max Depth','ROC AUC Score','RMSE'])\n",
    "print (df)"
   ]
  },
  {
   "cell_type": "code",
   "execution_count": 23,
   "id": "4dfbac61",
   "metadata": {},
   "outputs": [
    {
     "data": {
      "image/png": "[encoded data removed]",
      "text/plain": [
       "<Figure size 432x288 with 1 Axes>"
      ]
     },
     "metadata": {
      "needs_background": "light"
     },
     "output_type": "display_data"
    }
   ],
   "source": [
    "ax = sns.barplot(x=\"Max Depth\", y=\"ROC AUC Score\", data=df)"
   ]
  },
  {
   "cell_type": "code",
   "execution_count": 24,
   "id": "9ccadd4e",
   "metadata": {},
   "outputs": [
    {
     "data": {
      "image/png": "[encoded data removed]",
      "text/plain": [
       "<Figure size 432x288 with 1 Axes>"
      ]
     },
     "metadata": {
      "needs_background": "light"
     },
     "output_type": "display_data"
    }
   ],
   "source": [
    "ax = sns.barplot(x=\"Max Depth\", y=\"RMSE\", data=df)"
   ]
  },
  {
   "cell_type": "code",
   "execution_count": 25,
   "id": "006ea051",
   "metadata": {},
   "outputs": [
    {
     "name": "stdout",
     "output_type": "stream",
     "text": [
      "Improvement in ROC AUC Score with a Max Depth of 9 versus a Max Depth of 1: 11.65 %\n",
      "Improvement in RMSE Score with a Max Depth of 9 versus a Max Depth of 1: -36.16 %\n"
     ]
    }
   ],
   "source": [
    "#Max Depth Conculsion\n",
    "#Tree Depth of 12 has a  high score, but is computationally expensive for SHAP values\n",
    "#Tree Depth of 9 is able to run\n",
    "\n",
    "max_improve_roc = ((df['ROC AUC Score'][3] - df['ROC AUC Score'][0])/df['ROC AUC Score'][0])*100\n",
    "format_max_improve_roc = \"{:.2f}\".format(max_improve_roc)\n",
    "\n",
    "max_improve_rmse = ((df['RMSE'][3] - df['RMSE'][0])/df['RMSE'][0])*100\n",
    "format_max_improve_rmse = \"{:.2f}\".format(max_improve_rmse)\n",
    "\n",
    "print (\"Improvement in ROC AUC Score with a Max Depth of 9 versus a Max Depth of 1:\", format_max_improve_roc, \"%\")\n",
    "print (\"Improvement in RMSE Score with a Max Depth of 9 versus a Max Depth of 1:\", format_max_improve_rmse, \"%\")\n",
    "\n"
   ]
  },
  {
   "cell_type": "code",
   "execution_count": null,
   "id": "26de18f0",
   "metadata": {},
   "outputs": [],
   "source": []
  },
  {
   "cell_type": "code",
   "execution_count": 26,
   "id": "ae8c6647",
   "metadata": {},
   "outputs": [],
   "source": [
    "#Tuning n_estimators (Number of Trees) with Trees of  10, 100, 1000\n",
    "\n",
    "n_trees_x= [10,100,1000]\n",
    "n_trees_roc=[]       #ROC AUC \n",
    "n_trees_error=[]  #RMSE"
   ]
  },
  {
   "cell_type": "code",
   "execution_count": 27,
   "id": "7cd4b343",
   "metadata": {},
   "outputs": [
    {
     "data": {
      "text/plain": [
       "0.9834838674790176"
      ]
     },
     "execution_count": 27,
     "metadata": {},
     "output_type": "execute_result"
    }
   ],
   "source": [
    "#Number of Trees equal to  10\n",
    "rf_b = RandomForestClassifier(random_state=0, n_estimators=10)\n",
    "rf_b.fit(X_train,y_train)\n",
    "n_trees_error.append(rmse(rf_b.predict(X_test), y_test))\n",
    "n_trees_roc.append(roc_auc_score(y_test, rf_b.predict_proba(X_test)[:,1]))\n",
    "roc_auc_score(y_test, rf_b.predict_proba(X_test)[:,1])"
   ]
  },
  {
   "cell_type": "code",
   "execution_count": 28,
   "id": "ff17bbe1",
   "metadata": {},
   "outputs": [
    {
     "data": {
      "text/plain": [
       "0.9888256282187312"
      ]
     },
     "execution_count": 28,
     "metadata": {},
     "output_type": "execute_result"
    }
   ],
   "source": [
    "#Number of Trees equal to  100\n",
    "rf_b = RandomForestClassifier(random_state=0, n_estimators=100)\n",
    "rf_b.fit(X_train,y_train)\n",
    "n_trees_error.append(rmse(rf_b.predict(X_test), y_test))\n",
    "n_trees_roc.append(roc_auc_score(y_test, rf_b.predict_proba(X_test)[:,1]))\n",
    "roc_auc_score(y_test, rf_b.predict_proba(X_test)[:,1])"
   ]
  },
  {
   "cell_type": "code",
   "execution_count": 29,
   "id": "28a5a390",
   "metadata": {},
   "outputs": [
    {
     "data": {
      "text/plain": [
       "0.9894949159270184"
      ]
     },
     "execution_count": 29,
     "metadata": {},
     "output_type": "execute_result"
    }
   ],
   "source": [
    "#Number of Trees equal to  1000\n",
    "rf_b = RandomForestClassifier(random_state=0, n_estimators=1000)\n",
    "rf_b.fit(X_train,y_train)\n",
    "n_trees_error.append(rmse(rf_b.predict(X_test), y_test))\n",
    "n_trees_roc.append(roc_auc_score(y_test, rf_b.predict_proba(X_test)[:,1]))\n",
    "roc_auc_score(y_test, rf_b.predict_proba(X_test)[:,1])"
   ]
  },
  {
   "cell_type": "code",
   "execution_count": 30,
   "id": "bfbfa39e",
   "metadata": {},
   "outputs": [
    {
     "name": "stdout",
     "output_type": "stream",
     "text": [
      "   Number of Trees  ROC AUC Score      RMSE\n",
      "0             10.0       0.983484  0.238938\n",
      "1            100.0       0.988826  0.226362\n",
      "2           1000.0       0.989495  0.225168\n"
     ]
    }
   ],
   "source": [
    "#Max Depth list to dataframe\n",
    "n_trees_list = [n_trees_x, n_trees_roc, n_trees_error]\n",
    "df  = pd.DataFrame (n_trees_list).transpose()\n",
    "df. columns=(['Number of Trees','ROC AUC Score','RMSE'])\n",
    "print (df)"
   ]
  },
  {
   "cell_type": "code",
   "execution_count": 31,
   "id": "fe363db6",
   "metadata": {},
   "outputs": [
    {
     "data": {
      "image/png": "[encoded data removed]",
      "text/plain": [
       "<Figure size 432x288 with 1 Axes>"
      ]
     },
     "metadata": {
      "needs_background": "light"
     },
     "output_type": "display_data"
    }
   ],
   "source": [
    "ax = sns.barplot(x=\"Number of Trees\", y=\"ROC AUC Score\", data=df)"
   ]
  },
  {
   "cell_type": "code",
   "execution_count": 32,
   "id": "0eb912f2",
   "metadata": {},
   "outputs": [
    {
     "data": {
      "image/png": "[encoded data removed]",
      "text/plain": [
       "<Figure size 432x288 with 1 Axes>"
      ]
     },
     "metadata": {
      "needs_background": "light"
     },
     "output_type": "display_data"
    }
   ],
   "source": [
    "ax = sns.barplot(x=\"Number of Trees\", y=\"RMSE\", data=df)"
   ]
  },
  {
   "cell_type": "code",
   "execution_count": 33,
   "id": "b6941d7c",
   "metadata": {},
   "outputs": [
    {
     "name": "stdout",
     "output_type": "stream",
     "text": [
      "Improvement in ROC AUC Score with a Number of Trees of 100 versus a Number of Trees of 10: 0.54 %\n",
      "Improvement in RMSE Score with a Number of Trees of 100 versus a Number of Trees of 10: -5.26 %\n"
     ]
    }
   ],
   "source": [
    "#Number of Trees Conculsion\n",
    "#Number of Trees equal to 1000  has a  high score, but is computationally expensive for SHAP values\n",
    "#Number of Tress equal to 100  is able to run\n",
    "\n",
    "n_trees_improve_roc = ((df['ROC AUC Score'][1] - df['ROC AUC Score'][0])/df['ROC AUC Score'][0])*100\n",
    "format_n_trees_improve_roc = \"{:.2f}\".format(n_trees_improve_roc)\n",
    "\n",
    "n_trees_improve_rmse = ((df['RMSE'][1] - df['RMSE'][0])/df['RMSE'][0])*100\n",
    "format_n_trees_improve_rmse = \"{:.2f}\".format(n_trees_improve_rmse)\n",
    "\n",
    "print (\"Improvement in ROC AUC Score with a Number of Trees of 100 versus a Number of Trees of 10:\", format_n_trees_improve_roc, \"%\")\n",
    "print (\"Improvement in RMSE Score with a Number of Trees of 100 versus a Number of Trees of 10:\", format_n_trees_improve_rmse, \"%\")\n",
    "\n",
    "\n"
   ]
  },
  {
   "cell_type": "code",
   "execution_count": 34,
   "id": "bd3fe5a2",
   "metadata": {},
   "outputs": [
    {
     "data": {
      "text/plain": [
       "RandomForestClassifier(max_depth=9, random_state=0)"
      ]
     },
     "execution_count": 34,
     "metadata": {},
     "output_type": "execute_result"
    }
   ],
   "source": [
    "#Tuned Random Forest model with Test Data\n",
    "\n",
    "rf_2 = RandomForestClassifier(max_depth=9, random_state=0, n_estimators=100)\n",
    "rf_2.fit(X_train,y_train)\n"
   ]
  },
  {
   "cell_type": "raw",
   "id": "6b3fa298",
   "metadata": {},
   "source": []
  },
  {
   "cell_type": "code",
   "execution_count": 45,
   "id": "6ff2f418",
   "metadata": {},
   "outputs": [
    {
     "data": {
      "text/plain": [
       "0.22499592305520416"
      ]
     },
     "execution_count": 45,
     "metadata": {},
     "output_type": "execute_result"
    }
   ],
   "source": [
    "#RMSE for Baseline Random Forest with Validation Set\n",
    "\n",
    "rmse(rf.predict(X_val), y_val)\n"
   ]
  },
  {
   "cell_type": "code",
   "execution_count": 46,
   "id": "3aa54936",
   "metadata": {},
   "outputs": [
    {
     "data": {
      "text/plain": [
       "0.9890994066252455"
      ]
     },
     "execution_count": 46,
     "metadata": {},
     "output_type": "execute_result"
    }
   ],
   "source": [
    "#ROC score for Basline Random Forest with  Validation Set\n",
    "\n",
    "roc_auc_score(y_val, rf.predict_proba(X_val)[:,1])"
   ]
  },
  {
   "cell_type": "code",
   "execution_count": 47,
   "id": "46154c8b",
   "metadata": {},
   "outputs": [
    {
     "data": {
      "text/plain": [
       "0.22636167031977822"
      ]
     },
     "execution_count": 47,
     "metadata": {},
     "output_type": "execute_result"
    }
   ],
   "source": [
    "#RMSE for Baseline Random Forest with Test Set\n",
    "\n",
    "rmse(rf.predict(X_test), y_test)\n"
   ]
  },
  {
   "cell_type": "code",
   "execution_count": 48,
   "id": "93385316",
   "metadata": {},
   "outputs": [
    {
     "data": {
      "text/plain": [
       "0.9888256282187312"
      ]
     },
     "execution_count": 48,
     "metadata": {},
     "output_type": "execute_result"
    }
   ],
   "source": [
    "#ROC score for Baseline Random Forest with  Test Set\n",
    "\n",
    "roc_auc_score(y_test, rf.predict_proba(X_test)[:,1])"
   ]
  },
  {
   "cell_type": "code",
   "execution_count": 49,
   "id": "317a8d69",
   "metadata": {},
   "outputs": [
    {
     "data": {
      "text/plain": [
       "0.26848664345777173"
      ]
     },
     "execution_count": 49,
     "metadata": {},
     "output_type": "execute_result"
    }
   ],
   "source": [
    "#RMSE for Tuned Random Forest with Validation Set\n",
    "\n",
    "rmse(rf_2.predict(X_val), y_val)"
   ]
  },
  {
   "cell_type": "code",
   "execution_count": 50,
   "id": "78db3a2d",
   "metadata": {},
   "outputs": [
    {
     "data": {
      "text/plain": [
       "0.9787935729516226"
      ]
     },
     "execution_count": 50,
     "metadata": {},
     "output_type": "execute_result"
    }
   ],
   "source": [
    "#ROC score for Tuned Random Forest with  Validation Set\n",
    "\n",
    "roc_auc_score(y_val, rf_2.predict_proba(X_val)[:,1])"
   ]
  },
  {
   "cell_type": "code",
   "execution_count": 52,
   "id": "a04731fc",
   "metadata": {},
   "outputs": [
    {
     "data": {
      "text/plain": [
       "0.2767140773944691"
      ]
     },
     "execution_count": 52,
     "metadata": {},
     "output_type": "execute_result"
    }
   ],
   "source": [
    "#RMSE for Tuned Random Forest with Test Set\n",
    "\n",
    "rmse(rf_2.predict(X_test), y_test)"
   ]
  },
  {
   "cell_type": "code",
   "execution_count": 53,
   "id": "af134e78",
   "metadata": {},
   "outputs": [
    {
     "data": {
      "text/plain": [
       "0.9778597312887434"
      ]
     },
     "execution_count": 53,
     "metadata": {},
     "output_type": "execute_result"
    }
   ],
   "source": [
    "#ROC score for Tuned Random Forest with Test\n",
    "\n",
    "roc_auc_score(y_test, rf_2.predict_proba(X_test)[:,1])"
   ]
  },
  {
   "cell_type": "code",
   "execution_count": null,
   "id": "3a401a1a",
   "metadata": {},
   "outputs": [],
   "source": []
  },
  {
   "cell_type": "code",
   "execution_count": 38,
   "id": "04f0c886",
   "metadata": {},
   "outputs": [
    {
     "name": "stdout",
     "output_type": "stream",
     "text": [
      "              precision    recall  f1-score   support\n",
      "\n",
      "           0       0.94      0.97      0.95     14573\n",
      "           1       0.96      0.93      0.94     11403\n",
      "\n",
      "    accuracy                           0.95     25976\n",
      "   macro avg       0.95      0.95      0.95     25976\n",
      "weighted avg       0.95      0.95      0.95     25976\n",
      "\n"
     ]
    }
   ],
   "source": [
    "#RF Classification report on Baseline Model\n",
    "\n",
    "print(classification_report(y_test, rf.predict(X_test)))"
   ]
  },
  {
   "cell_type": "code",
   "execution_count": 40,
   "id": "24de6972",
   "metadata": {},
   "outputs": [
    {
     "name": "stdout",
     "output_type": "stream",
     "text": [
      "              precision    recall  f1-score   support\n",
      "\n",
      "           0       0.93      0.94      0.93     14573\n",
      "           1       0.92      0.90      0.91     11403\n",
      "\n",
      "    accuracy                           0.92     25976\n",
      "   macro avg       0.92      0.92      0.92     25976\n",
      "weighted avg       0.92      0.92      0.92     25976\n",
      "\n"
     ]
    }
   ],
   "source": [
    "#RF Classification report on Tuned Model\n",
    "\n",
    "print(classification_report(y_test, rf_2.predict(X_test)))"
   ]
  },
  {
   "cell_type": "code",
   "execution_count": null,
   "id": "fc6f3af0",
   "metadata": {},
   "outputs": [],
   "source": [
    "#Conclusion\n",
    "\n",
    "#Tuned model with ROC of 0.98 is similar to Basline  model with 0.99\n",
    "#Baseline model is computationally expensive to get SHAP Values which renders\n",
    "#it not interpretable\n",
    "\n",
    "#Tuned model is able to get SHAP values and somewhat interpretable \n"
   ]
  },
  {
   "cell_type": "code",
   "execution_count": null,
   "id": "4c2edcd3",
   "metadata": {},
   "outputs": [],
   "source": []
  },
  {
   "cell_type": "code",
   "execution_count": null,
   "id": "43f4a45d",
   "metadata": {},
   "outputs": [],
   "source": []
  },
  {
   "cell_type": "code",
   "execution_count": null,
   "id": "1b480341",
   "metadata": {},
   "outputs": [],
   "source": []
  },
  {
   "cell_type": "code",
   "execution_count": null,
   "id": "cecffa07",
   "metadata": {},
   "outputs": [],
   "source": []
  },
  {
   "cell_type": "code",
   "execution_count": null,
   "id": "3664c512",
   "metadata": {},
   "outputs": [],
   "source": []
  },
  {
   "cell_type": "code",
   "execution_count": null,
   "id": "14c7fe1b",
   "metadata": {},
   "outputs": [],
   "source": []
  },
  {
   "cell_type": "code",
   "execution_count": null,
   "id": "5306e9f4",
   "metadata": {},
   "outputs": [],
   "source": []
  },
  {
   "cell_type": "code",
   "execution_count": null,
   "id": "faa8025e",
   "metadata": {},
   "outputs": [],
   "source": []
  },
  {
   "cell_type": "code",
   "execution_count": null,
   "id": "e3d943ba",
   "metadata": {},
   "outputs": [],
   "source": []
  },
  {
   "cell_type": "code",
   "execution_count": null,
   "id": "267c9e72",
   "metadata": {},
   "outputs": [],
   "source": []
  },
  {
   "cell_type": "code",
   "execution_count": null,
   "id": "c0ab87d5",
   "metadata": {},
   "outputs": [],
   "source": []
  },
  {
   "cell_type": "code",
   "execution_count": null,
   "id": "ed5140c2",
   "metadata": {},
   "outputs": [],
   "source": []
  }
 ],
 "metadata": {
  "kernelspec": {
   "display_name": "Python [conda env:root]",
   "language": "python",
   "name": "conda-root-py"
  },
  "language_info": {
   "codemirror_mode": {
    "name": "ipython",
    "version": 3
   },
   "file_extension": ".py",
   "mimetype": "text/x-python",
   "name": "python",
   "nbconvert_exporter": "python",
   "pygments_lexer": "ipython3",
   "version": "3.8.8"
  }
 },
 "nbformat": 4,
 "nbformat_minor": 5
}
